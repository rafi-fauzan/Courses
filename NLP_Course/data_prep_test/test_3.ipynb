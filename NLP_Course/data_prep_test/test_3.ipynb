{
 "metadata": {
  "language_info": {
   "codemirror_mode": {
    "name": "ipython",
    "version": 3
   },
   "file_extension": ".py",
   "mimetype": "text/x-python",
   "name": "python",
   "nbconvert_exporter": "python",
   "pygments_lexer": "ipython3",
   "version": "3.9.1-final"
  },
  "orig_nbformat": 2,
  "kernelspec": {
   "name": "python3",
   "display_name": "Python 3.9.1 64-bit",
   "metadata": {
    "interpreter": {
     "hash": "6da017db4405de7e7334531da20ce055dcc4d682cc6baf29d41232eca3e20501"
    }
   }
  }
 },
 "nbformat": 4,
 "nbformat_minor": 2,
 "cells": [
  {
   "cell_type": "code",
   "execution_count": 2,
   "metadata": {},
   "outputs": [],
   "source": [
    "import numpy as np\n",
    "import pandas as pd\n",
    "import spacy\n",
    "nlp = spacy.load(\"en_core_web_sm\")"
   ]
  },
  {
   "cell_type": "code",
   "execution_count": 3,
   "metadata": {},
   "outputs": [
    {
     "output_type": "execute_result",
     "data": {
      "text/plain": [
       "                                                   0       1\n",
       "0                                             Review  Rating\n",
       "1  nice hotel expensive parking got good deal sta...       4\n",
       "2  ok nothing special charge diamond member hilto...       2\n",
       "3  nice rooms not 4* experience hotel monaco seat...       3\n",
       "4  unique, great stay, wonderful time hotel monac...       5"
      ],
      "text/html": "<div>\n<style scoped>\n    .dataframe tbody tr th:only-of-type {\n        vertical-align: middle;\n    }\n\n    .dataframe tbody tr th {\n        vertical-align: top;\n    }\n\n    .dataframe thead th {\n        text-align: right;\n    }\n</style>\n<table border=\"1\" class=\"dataframe\">\n  <thead>\n    <tr style=\"text-align: right;\">\n      <th></th>\n      <th>0</th>\n      <th>1</th>\n    </tr>\n  </thead>\n  <tbody>\n    <tr>\n      <th>0</th>\n      <td>Review</td>\n      <td>Rating</td>\n    </tr>\n    <tr>\n      <th>1</th>\n      <td>nice hotel expensive parking got good deal sta...</td>\n      <td>4</td>\n    </tr>\n    <tr>\n      <th>2</th>\n      <td>ok nothing special charge diamond member hilto...</td>\n      <td>2</td>\n    </tr>\n    <tr>\n      <th>3</th>\n      <td>nice rooms not 4* experience hotel monaco seat...</td>\n      <td>3</td>\n    </tr>\n    <tr>\n      <th>4</th>\n      <td>unique, great stay, wonderful time hotel monac...</td>\n      <td>5</td>\n    </tr>\n  </tbody>\n</table>\n</div>"
     },
     "metadata": {},
     "execution_count": 3
    }
   ],
   "source": [
    "data = pd.read_csv('tripadvisor_hotel_reviews.csv', header=None)\n",
    "data.head()"
   ]
  },
  {
   "cell_type": "code",
   "execution_count": 4,
   "metadata": {},
   "outputs": [],
   "source": [
    "longest = data.iloc[7073:7074,0:1]"
   ]
  },
  {
   "cell_type": "code",
   "execution_count": 5,
   "metadata": {},
   "outputs": [
    {
     "output_type": "execute_result",
     "data": {
      "text/plain": [
       "1931"
      ]
     },
     "metadata": {},
     "execution_count": 5
    }
   ],
   "source": [
    "len(longest[0].item().split())"
   ]
  },
  {
   "cell_type": "code",
   "execution_count": 6,
   "metadata": {},
   "outputs": [],
   "source": [
    "text = longest[0].item()"
   ]
  },
  {
   "cell_type": "code",
   "execution_count": 7,
   "metadata": {},
   "outputs": [],
   "source": [
    "doc = nlp(text)"
   ]
  },
  {
   "cell_type": "code",
   "execution_count": 8,
   "metadata": {},
   "outputs": [],
   "source": [
    "noun = [i.text for i in doc.noun_chunks]"
   ]
  },
  {
   "cell_type": "code",
   "execution_count": 9,
   "metadata": {},
   "outputs": [
    {
     "output_type": "stream",
     "name": "stdout",
     "text": [
      "['honest review', 'secrets couple work', 'raving experiences', 'all-inclusive regular cruise traveler', 'mouth', 'try.i', 'posts site', 'review', 'written resort', 'eyes', 'reviews', 'good suspected staff secrets', 'fact person posted review', 'staff members', 'posting forum', 'excellence club', 'type activity', 'hotel ratings high posting positive reviews.in case', 'totally honest review secrets', 'all-inclusive experience', 'end review', 'link photo page', 'trip judy maria travel internet', 'no travel agent travel site pop', 'search booking resort', 'went site', 'photos judy maria resort', 'general manager', 'travel agents', 'resort', 'chance booking', 'great gamble', 'maria', 'great price', 'perfect room location', 'travel worries hands', \"nervous n't room\", 'helicopter ride', 'arrival', 'no matter times', 'maria express concerns', 'patiently assured people', 'secrets', 'jm travel clients', 'on.our vacation', 'judy maria travel apple vacations', '3000 planes', 'punta cana airport', 'quite experience', 'time', 'thing', 'heat', 'airport', 'open-aired covered grass roofs', 'walk airport', 'lodge', 'arrive airport buy travel card', 'cards', 'advance force cramp table shopping list personal information', 'print', 'tiny spaces', 'headache mariachi band', 'god-awful music musicians', 'hat donations', 'passed airport', 'luggage', 'luggage', 'arrival departure airport', 'bomb-sniffing dogs', 'place.after reading reviews forum', '90 minute drive hotel', 'splurge helicopter ride', '500- 550 people roundtrip', 'exited airport', 'apple representative holding names card', 'driven airport', 'helicopter', 'experience', 'helicopter forget', 'scares', 'quite enjoyable, helicopter glass head toe really great view', 'helicopter driver bradley hill terrific', 'slipped headphones microphones heads', 'guided tour beachfront', 'passed resorts way secrets', 'entire ride', 'just 20 minutes', 'gate', 'luggage', 'long road', 'main gate', 'walking lobby', 'smiles', 'gent transportation podium', 'bags', 'immediately escorted excellence', 'club.excellence clubmany people bicker excellence club', 'extra cost', 'sides argument answer', 'personal needs', 'needs', 'businessman', 'internet access check email', 'excellence club', 'sole reason', 'added bonus.we', 'excellence club', 'ivan santana pretty canadian gal jennifer payne', 'glasses', 'cold towels', '10 3rd floor', 'ocean.when', 'arrived room fruit basket', 'bottle champagne ice', 'talk room moments', 'excellence club club house', 'royalty guys', 'santos john', 'theses guys', 'wanted drink', 'restaurants', 'able brugal rum favorite dominican people', 'evenings girlfriend club', 'great place', 'people', 'later parts evening.books board games', 'stations', 'table', 'free broadband internet access', 'overall speed access', 'not nearly fast home broadband connection', 'certainly faster dial-up.the problem internet access access stations', 'internet priviledges', 'card', 'table', 'people', 'possible time', 'common couples', 'favorite tv waiting use', 'overly-aggressive woman bergen county nj', 'plate food', '45 minutes clip', 'abruptly asked person', 'nuisance woman', 'computers', 'secrets', 'good idea', 'additional terminal wait', 'food laid excellence club', 'food laid plates', 'hours', 'no refrigeration', 'sort horrifying meats cheeses', 'food resort', 'united states', 'talk moments', 'eat excellence club finger food', \"safer munching hot hors'derves\", 'mini pizzas kebobs sausages', 'morning scrambled eggs coffee cereal', 'hot coffee iced tea', 'club', '7am closes', '11pm', 'loved excellence club', 'mere convenience internet access premium liquor big bonus', 'phone room night representative', 'sure needs', 'care', 'jm travel', 'extra special treatment', 'reservations', 'not offered, club member deal desk', 'check', 'club', 'activities', 'club', 'problem room', 'club', 'assistance.the roomwe', 'secrets', '3pm', '3rd floor room', 'ocean', 'cathedral ceilings', 'rooms', 'floor arched ceilings', 'expected, air-conditioning pumping blast', 'day', 'excellence club', 'second-story room', 'room ice-box', '3rd floor room kind person', 'room', 'cold.the rooms', 'extremely impressed room marble decor roomy bathroom course jacuzzi', 'excellence club members', 'slippers', 'closet', 'room immaculate', 'people', 'time', 'ants', 'room people', 'food', 'food', 'little creatures.the minibar stocked, tiny refrigerator filled presidente beer coke pepsi kit-kat bar', 'guy', 'minibar', 'daily slipped nice tip', 'plenty barcelo', 'rum vodka diet colas', 'champagne', 'spanish communication', 'home write note spanish use internet translator', 'room maid', 'wish', 'stocked refrigerator', 'little gifts', 'small tip', 'care', 'of.the jacuzzi room', 'not overly large, fit 2 petite people', 'little sorry overweight people', 'terrific whirlpool jacuzzi bedroom nights', 'bubble bath filled rose petals', 'us.bathroom shower roomy', 'basket lotions shampoo', 'no problem', 'girlfriend', 'snoring.room service abysmal', 'use', 'needs', 'extra set pillows', '7pm', '11pm.excellence club members dvd player room', 'club horrible selection titles', 'discs', 'player', 'region', 'titles.the tv room', 'wide range channels', 'local feeds', 'coming new york city', 'abc news feed nyc', 'channel 16 playboy channel', 'soft porn xxx rated selections', 'bonus excellence club', 'tuesday night final night american idol fox', 'fox', 'line-up', 'ivan excellence club', \"n't quite figure channels\", 'nothing', 'continuous loop scene tim burton film remake planet', 'kep showing', 'groundswhere secrets', 'property', 'moment', 'open lobby', 'property', 'absolutely gorgeous, great deal attention', 'things', 'no complaints', 'people', ', day strolled beach sand', 'water rough expected atlantic island', 'little dirty day', 'cups bottles', 'condom sand', 'pool highlight trip', 'sprawling property winding pool bridges', 'swim-up bar stop', 'pictures', 'water perfect warm temperature', 'grass hut', 'rafts', 'available people', 'carried seats', 'startling people', 'rafts', 'chairs', 'fact', 'unused hours', 'people', 'rafts', 'shortage.temperatures low 90s', 'january-march temperatures', 'summer 100 degrees', 'rainy season way', 'sunscreen', 'intense burn mosquitos', 'early morning dusk', 'quite times', 'forgot spray', 'huge bumps skin', 'little flies', 'foilage surround grass huts pool', 'staff', 'spray bushes', 'native gift shops', 'resort property', 'natives harrass rip', ', moment walk', 'sorts harrassment people life-long friends', 'price', 'shop nice lady gift shop', 'just property fence', 'not harrass', 'fair price', 'food alcoholhere secrets', 'big thumbs', 'food alcohol', 'essential vacation', 'avid cruise ship traveler', 'food', 'pallette', 'cold little hot dogs', 'sausages', 'best breakfast felix omelets', 'felix', 'things', 'reviews', 'nametag', 'famous felix', 'internet', 'hand', '3-part handshake', 'guy', 'incredible omelets', 'single morning', 'mastered skill joy watch man', 'friendly recommend', 'family', 'lunch', 'texas steakhouse', 'hamburger place', 'language barriers', 'exact burger', 'burgers', 'day stay', 'burger lunch buffet huge mistake', 'raw meat', 'ice', 'sick eating', 'surprise pizza', 'lunch lunch buffet', 'quite good reviewer', 'best pizza world', 'pizza', 'new york city quality', 'surprisingly good, dinner mixed bag', 'quisqueya upscale restaurants', 'chateaubriand people', 'double portion', 'mexican restaurant', 'just so-so, better italian food cruise ship', 'buffet food unedible fatty meat chicken chewy tender', 'lackluster things', 'chinese restaurant.when eating restaurants', 'double portions', 'lot times language barrier', 'portions', 'food', 'advance', 'american food', 'travel experience foods', 'problem food', 'american', 'tap water', 'bottled water brush teeth problem food use tap water', 'special oils', 'no kidding constant diarrhea week', 'home resort', 'alcohol', 'pool bars', 'stock generic brands', 'precise want', 'bad bartenders', 'english', ', hard understand', 'coco-loco', 'ice cream machine cones', 'food pool', '-hearty', 'ice cream machine bar cones', 'hamburger stand pool', 'people', 'hamburgers pool', 'music pool', 'darn music', 'stereo lobby end pool', 'people.the best drink', 'coco-loco cocoanut', 'mucho rum', 'sick, careful drinking heat', 'fish day', 'extra rum drink', 'forgot drink water', 'sensible drink', 'easy drink water hot sun alcoholic beverages.we rain days week stay', 'rain cancelled beach party', 'particular day newsletter room', 'beach barbecue', 'beach party', 'beach party', 'beach bbq', 'it.the staffhere secrets excells', 'staff top-rate', 'people', 'hola', 'pleasure.i stress language barrier', 'things', 'servers restaurant', 'time', 'bartenders', 'order', 'stranger country', 'phrases', 'people', 'language', '100 singles', 'tip staff', '2 lot money people', 'gifts', 'clothes children', 'clean rooms', 'gifts children', 'paula excellence club', 'gifts', 'long way island', 'clothes', 'regular basis', 'good people', 'secrets 5-star review', 'trip', 'usa cruise ship', 'positive feeling', 'resort', '5-star quality', 'rooms property service top-notch, food alcohol', 'helicopter pilot people', 'dominican republic resorts', 'fact couple', 'food secrets', 'better punta cana resorts', 'probably 90-minute drive airport', 'nobody', 'vacation endure drive hotel', '550 helicopter ride', 'affordable.would return secrets', 'resorts', 'strange reason', 'welcome comfortable week-long stay resort', 'hope day', 'staff members']\n"
     ]
    }
   ],
   "source": [
    "print(noun)"
   ]
  },
  {
   "cell_type": "code",
   "execution_count": 85,
   "metadata": {},
   "outputs": [],
   "source": [
    "class car:\n",
    "    wheel = 4\n",
    "    def __init__(self, color, power, type):\n",
    "        self.color = color\n",
    "        self.power = power\n",
    "        self.type = type\n",
    "    def start(self):\n",
    "        print('Brum')\n",
    "    @classmethod\n",
    "    def wheel(cls, wheel):\n",
    "        cls.wheel = wheel"
   ]
  },
  {
   "cell_type": "code",
   "execution_count": 86,
   "metadata": {},
   "outputs": [],
   "source": [
    "abc = car('black', 'gas', 'sedan')"
   ]
  },
  {
   "cell_type": "code",
   "execution_count": 106,
   "metadata": {},
   "outputs": [],
   "source": [
    "class tesla(car):\n",
    "    def __init__(self, model, *args):\n",
    "        super(tesla, self).__init__(*args)\n",
    "        self.model = model\n",
    "    def drive(self):\n",
    "        print('swee')\n",
    "    @staticmethod\n",
    "    def static():\n",
    "        print('static')\n"
   ]
  },
  {
   "cell_type": "code",
   "execution_count": 107,
   "metadata": {},
   "outputs": [],
   "source": [
    "bca = tesla('cybertruck_2', 'silver', 'electicity', 'truck')"
   ]
  },
  {
   "cell_type": "code",
   "execution_count": 153,
   "metadata": {},
   "outputs": [
    {
     "output_type": "stream",
     "name": "stdout",
     "text": [
      "My name is ian, and I am 22 years old\nThis is {} Biography\nDONE\n"
     ]
    }
   ],
   "source": [
    "def abc(func):\n",
    "    def wrapper(*args):\n",
    "        print('My name is {}, and I am {} years old'.format(args[0], args[1]))\n",
    "        func()\n",
    "        print('DONE')\n",
    "    return wrapper\n",
    "\n",
    "@abc\n",
    "def biography():\n",
    "    print('This is {} Biography')\n",
    "\n",
    "biography('ian', 22, 32)"
   ]
  },
  {
   "cell_type": "code",
   "execution_count": 158,
   "metadata": {},
   "outputs": [
    {
     "output_type": "error",
     "ename": "AttributeError",
     "evalue": "__enter__",
     "traceback": [
      "\u001b[0;31m---------------------------------------------------------------------------\u001b[0m",
      "\u001b[0;31mAttributeError\u001b[0m                            Traceback (most recent call last)",
      "\u001b[0;32m<ipython-input-158-72e37791d7a7>\u001b[0m in \u001b[0;36m<module>\u001b[0;34m\u001b[0m\n\u001b[0;32m----> 1\u001b[0;31m \u001b[0;32mwith\u001b[0m \u001b[0;34m'abc'\u001b[0m \u001b[0;32mas\u001b[0m \u001b[0ma\u001b[0m\u001b[0;34m:\u001b[0m\u001b[0;34m\u001b[0m\u001b[0;34m\u001b[0m\u001b[0m\n\u001b[0m\u001b[1;32m      2\u001b[0m     \u001b[0mprint\u001b[0m\u001b[0;34m(\u001b[0m\u001b[0ma\u001b[0m\u001b[0;34m)\u001b[0m\u001b[0;34m\u001b[0m\u001b[0;34m\u001b[0m\u001b[0m\n",
      "\u001b[0;31mAttributeError\u001b[0m: __enter__"
     ]
    }
   ],
   "source": [
    "with 'abc' as a:\n",
    "    print(a)"
   ]
  },
  {
   "cell_type": "code",
   "execution_count": 183,
   "metadata": {},
   "outputs": [],
   "source": [
    "def abc(func):\n",
    "    def wrapper(*args):\n",
    "        print('My name is {}, and I am {} years old'.format(args[0], args[1]))\n",
    "        func()\n",
    "        print('DONE')\n",
    "    return wrapper\n",
    "\n",
    "class abc():\n",
    "    def __init__(self, test):\n",
    "        self.test = test\n",
    "    @abc\n",
    "    def biography(self):\n",
    "        print('This is {} Biography')"
   ]
  },
  {
   "cell_type": "code",
   "execution_count": 184,
   "metadata": {},
   "outputs": [],
   "source": [
    "a = abc"
   ]
  },
  {
   "cell_type": "code",
   "execution_count": 186,
   "metadata": {},
   "outputs": [
    {
     "output_type": "stream",
     "name": "stdout",
     "text": [
      "My name is 1, and I am 2 years old\nThis is {} Biography\nDONE\n"
     ]
    }
   ],
   "source": [
    "a.biography(1,2)"
   ]
  },
  {
   "cell_type": "code",
   "execution_count": 187,
   "metadata": {},
   "outputs": [],
   "source": [
    "def abc(a,b,c):\n",
    "    yield a\n",
    "    yield b\n",
    "    yield c"
   ]
  },
  {
   "cell_type": "code",
   "execution_count": 189,
   "metadata": {},
   "outputs": [
    {
     "output_type": "stream",
     "name": "stdout",
     "text": [
      "<generator object abc at 0x7f06b8ba4040>\n"
     ]
    }
   ],
   "source": [
    "print(abc(1,2,3))"
   ]
  },
  {
   "cell_type": "code",
   "execution_count": 205,
   "metadata": {},
   "outputs": [],
   "source": [
    "abc = list(map(lambda x: x, [1,2,3]))"
   ]
  },
  {
   "cell_type": "code",
   "execution_count": 206,
   "metadata": {},
   "outputs": [
    {
     "output_type": "execute_result",
     "data": {
      "text/plain": [
       "[1, 2, 3]"
      ]
     },
     "metadata": {},
     "execution_count": 206
    }
   ],
   "source": [
    "abc"
   ]
  },
  {
   "cell_type": "code",
   "execution_count": 211,
   "metadata": {},
   "outputs": [],
   "source": [
    "a = [1,2,3,4,5]\n",
    "b = [i*2 for i in a]"
   ]
  },
  {
   "cell_type": "code",
   "execution_count": 212,
   "metadata": {},
   "outputs": [
    {
     "output_type": "stream",
     "name": "stdout",
     "text": [
      "[2, 4, 6, 8, 10]\n"
     ]
    }
   ],
   "source": [
    "print(b)"
   ]
  },
  {
   "cell_type": "code",
   "execution_count": 215,
   "metadata": {},
   "outputs": [],
   "source": [
    "b = []\n",
    "for i in a:\n",
    "    c = i*2\n",
    "    b.append(c)"
   ]
  },
  {
   "cell_type": "code",
   "execution_count": 216,
   "metadata": {},
   "outputs": [
    {
     "output_type": "stream",
     "name": "stdout",
     "text": [
      "[2, 4, 6, 8, 10]\n"
     ]
    }
   ],
   "source": [
    "print(b)"
   ]
  },
  {
   "cell_type": "code",
   "execution_count": null,
   "metadata": {},
   "outputs": [],
   "source": []
  }
 ]
}