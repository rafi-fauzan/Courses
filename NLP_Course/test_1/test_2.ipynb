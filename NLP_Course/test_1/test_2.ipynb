{
 "metadata": {
  "language_info": {
   "codemirror_mode": {
    "name": "ipython",
    "version": 3
   },
   "file_extension": ".py",
   "mimetype": "text/x-python",
   "name": "python",
   "nbconvert_exporter": "python",
   "pygments_lexer": "ipython3",
   "version": "3.7.7-final"
  },
  "orig_nbformat": 2,
  "kernelspec": {
   "name": "python3",
   "display_name": "Python 3.7.7 64-bit ('pytorch_deeplearning': conda)",
   "metadata": {
    "interpreter": {
     "hash": "2bcd7ec7ba57b04cf90fee3838748171677195bfc714753350d4adb3113cc5c7"
    }
   }
  }
 },
 "nbformat": 4,
 "nbformat_minor": 2,
 "cells": [
  {
   "cell_type": "code",
   "execution_count": 1,
   "metadata": {},
   "outputs": [],
   "source": [
    "import torch\n",
    "import torch.nn as nn\n",
    "import torchtext\n",
    "import spacy\n",
    "import numpy as np\n",
    "import pandas as pd\n",
    "import matplotlib.pyplot as plt\n",
    "import tqdm\n",
    "import time\n",
    "gpu = ('cuda:0')"
   ]
  },
  {
   "cell_type": "code",
   "execution_count": 13,
   "metadata": {},
   "outputs": [],
   "source": [
    "test_dataset = {\n",
    "    'data' : [\n",
    "        \"1 2 3 4 5 6 7 8 9 10\",\n",
    "        \"1 2 3 4 5 6 7 8 9\",\n",
    "        \"1 2 3 4 5 6 7 8\",\n",
    "        \"1 2 3 4 5 6 7\",\n",
    "        \"1 2 3 4 5 6\",\n",
    "        \"1 2 3 4 5\",\n",
    "        \"1 2 3 4\",\n",
    "        \"1 2 3\",\n",
    "        \"1 2\",\n",
    "        \"1\"\n",
    "        ],\n",
    "        \n",
    "    'label' : [\n",
    "        'pos',\n",
    "        'neg',\n",
    "        'pos',\n",
    "        'neg',\n",
    "        'pos',\n",
    "        'neg',\n",
    "        'pos',\n",
    "        'neg',\n",
    "        'pos',\n",
    "        'neg'\n",
    "    ]\n",
    "        }"
   ]
  },
  {
   "cell_type": "code",
   "execution_count": 15,
   "metadata": {},
   "outputs": [],
   "source": [
    "import pandas as pd\n",
    "dataset = pd.DataFrame(test_dataset)"
   ]
  },
  {
   "cell_type": "code",
   "execution_count": 16,
   "metadata": {},
   "outputs": [
    {
     "output_type": "execute_result",
     "data": {
      "text/plain": [
       "                   data label\n",
       "0  1 2 3 4 5 6 7 8 9 10   pos\n",
       "1     1 2 3 4 5 6 7 8 9   neg\n",
       "2       1 2 3 4 5 6 7 8   pos\n",
       "3         1 2 3 4 5 6 7   neg\n",
       "4           1 2 3 4 5 6   pos"
      ],
      "text/html": "<div>\n<style scoped>\n    .dataframe tbody tr th:only-of-type {\n        vertical-align: middle;\n    }\n\n    .dataframe tbody tr th {\n        vertical-align: top;\n    }\n\n    .dataframe thead th {\n        text-align: right;\n    }\n</style>\n<table border=\"1\" class=\"dataframe\">\n  <thead>\n    <tr style=\"text-align: right;\">\n      <th></th>\n      <th>data</th>\n      <th>label</th>\n    </tr>\n  </thead>\n  <tbody>\n    <tr>\n      <th>0</th>\n      <td>1 2 3 4 5 6 7 8 9 10</td>\n      <td>pos</td>\n    </tr>\n    <tr>\n      <th>1</th>\n      <td>1 2 3 4 5 6 7 8 9</td>\n      <td>neg</td>\n    </tr>\n    <tr>\n      <th>2</th>\n      <td>1 2 3 4 5 6 7 8</td>\n      <td>pos</td>\n    </tr>\n    <tr>\n      <th>3</th>\n      <td>1 2 3 4 5 6 7</td>\n      <td>neg</td>\n    </tr>\n    <tr>\n      <th>4</th>\n      <td>1 2 3 4 5 6</td>\n      <td>pos</td>\n    </tr>\n  </tbody>\n</table>\n</div>"
     },
     "metadata": {},
     "execution_count": 16
    }
   ],
   "source": [
    "dataset.head()"
   ]
  },
  {
   "cell_type": "code",
   "execution_count": 28,
   "metadata": {},
   "outputs": [],
   "source": [
    "dataset['sentiment'] = dataset['label'].map({'neg':0, 'pos':1}) \n",
    "dataset = dataset.iloc[:,::2]"
   ]
  },
  {
   "cell_type": "code",
   "execution_count": 29,
   "metadata": {},
   "outputs": [
    {
     "output_type": "execute_result",
     "data": {
      "text/plain": [
       "                   data  sentiment\n",
       "0  1 2 3 4 5 6 7 8 9 10          1\n",
       "1     1 2 3 4 5 6 7 8 9          0\n",
       "2       1 2 3 4 5 6 7 8          1\n",
       "3         1 2 3 4 5 6 7          0\n",
       "4           1 2 3 4 5 6          1"
      ],
      "text/html": "<div>\n<style scoped>\n    .dataframe tbody tr th:only-of-type {\n        vertical-align: middle;\n    }\n\n    .dataframe tbody tr th {\n        vertical-align: top;\n    }\n\n    .dataframe thead th {\n        text-align: right;\n    }\n</style>\n<table border=\"1\" class=\"dataframe\">\n  <thead>\n    <tr style=\"text-align: right;\">\n      <th></th>\n      <th>data</th>\n      <th>sentiment</th>\n    </tr>\n  </thead>\n  <tbody>\n    <tr>\n      <th>0</th>\n      <td>1 2 3 4 5 6 7 8 9 10</td>\n      <td>1</td>\n    </tr>\n    <tr>\n      <th>1</th>\n      <td>1 2 3 4 5 6 7 8 9</td>\n      <td>0</td>\n    </tr>\n    <tr>\n      <th>2</th>\n      <td>1 2 3 4 5 6 7 8</td>\n      <td>1</td>\n    </tr>\n    <tr>\n      <th>3</th>\n      <td>1 2 3 4 5 6 7</td>\n      <td>0</td>\n    </tr>\n    <tr>\n      <th>4</th>\n      <td>1 2 3 4 5 6</td>\n      <td>1</td>\n    </tr>\n  </tbody>\n</table>\n</div>"
     },
     "metadata": {},
     "execution_count": 29
    }
   ],
   "source": [
    "dataset.head()"
   ]
  },
  {
   "cell_type": "code",
   "execution_count": 30,
   "metadata": {},
   "outputs": [],
   "source": [
    "dataset.to_csv('dataset.csv', index=False)"
   ]
  },
  {
   "cell_type": "code",
   "execution_count": 2,
   "metadata": {},
   "outputs": [],
   "source": [
    "TEXT = torchtext.data.Field(\n",
    "    sequential = True,\n",
    "    lower = True,\n",
    "    batch_first = True,\n",
    "    tokenize = 'spacy',\n",
    "    pad_first = True\n",
    ")\n",
    "\n",
    "LABEL = torchtext.data.Field(\n",
    "    sequential = False,\n",
    "    use_vocab = False,\n",
    "    is_target = True\n",
    ")"
   ]
  },
  {
   "cell_type": "code",
   "execution_count": 3,
   "metadata": {},
   "outputs": [],
   "source": [
    "dataset_ = torchtext.data.TabularDataset(\n",
    "    path = 'dataset.csv', \n",
    "    format = 'csv',\n",
    "    skip_header = True,\n",
    "    fields = [('data', TEXT), ('sentiment', LABEL)] \n",
    ")"
   ]
  },
  {
   "cell_type": "code",
   "execution_count": 4,
   "metadata": {},
   "outputs": [
    {
     "output_type": "stream",
     "name": "stdout",
     "text": [
      "['1', '2', '3', '4', '5', '6', '7', '8', '9', '10']\n1\n"
     ]
    }
   ],
   "source": [
    "print(dataset_[0].data)\n",
    "print(dataset_[0].sentiment)"
   ]
  },
  {
   "cell_type": "code",
   "execution_count": 46,
   "metadata": {},
   "outputs": [],
   "source": [
    "# why always shuffling ?\n",
    "train_dataset, validation_dataset = dataset_.split(0.6)"
   ]
  },
  {
   "cell_type": "code",
   "execution_count": 22,
   "metadata": {},
   "outputs": [
    {
     "output_type": "execute_result",
     "data": {
      "text/plain": [
       "6"
      ]
     },
     "metadata": {},
     "execution_count": 22
    }
   ],
   "source": [
    "len(train_dataset)"
   ]
  },
  {
   "cell_type": "code",
   "execution_count": 47,
   "metadata": {},
   "outputs": [
    {
     "output_type": "execute_result",
     "data": {
      "text/plain": [
       "['1', '2', '3', '4']"
      ]
     },
     "metadata": {},
     "execution_count": 47
    }
   ],
   "source": [
    "train_dataset[0].data"
   ]
  },
  {
   "cell_type": "code",
   "execution_count": 24,
   "metadata": {},
   "outputs": [
    {
     "output_type": "execute_result",
     "data": {
      "text/plain": [
       "11"
      ]
     },
     "metadata": {},
     "execution_count": 24
    }
   ],
   "source": [
    "TEXT.build_vocab(train_dataset)\n",
    "vocab = TEXT.vocab\n",
    "len(vocab)\n",
    "# vocab.stoi"
   ]
  },
  {
   "cell_type": "code",
   "execution_count": 25,
   "metadata": {},
   "outputs": [],
   "source": [
    "train_iter, valid_iter = torchtext.data.BucketIterator.splits(\n",
    "    (train_dataset, validation_dataset), \n",
    "    sort_key = lambda x: len(x.data),\n",
    "    batch_sizes = (2, 2),\n",
    "    device = gpu\n",
    ")"
   ]
  },
  {
   "cell_type": "code",
   "execution_count": 26,
   "metadata": {},
   "outputs": [],
   "source": [
    "# for accessing specific batch\n",
    "every_batch = []\n",
    "for batch in enumerate(train_iter):\n",
    "    every_batch.append(batch)\n",
    "    # print(batch)\n",
    "    # inputs, labels = batch.Review, batch.Label\n",
    "    # print(inputs.shape, labels.shape)"
   ]
  },
  {
   "cell_type": "code",
   "execution_count": 32,
   "metadata": {},
   "outputs": [],
   "source": [
    "a,b = every_batch[2][1]"
   ]
  },
  {
   "cell_type": "code",
   "execution_count": 33,
   "metadata": {},
   "outputs": [
    {
     "output_type": "execute_result",
     "data": {
      "text/plain": [
       "tensor([[2, 3, 4, 5, 6],\n",
       "        [1, 1, 1, 2, 3]], device='cuda:0')"
      ]
     },
     "metadata": {},
     "execution_count": 33
    }
   ],
   "source": [
    "a"
   ]
  }
 ]
}