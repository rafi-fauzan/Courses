{
 "cells": [
  {
   "cell_type": "markdown",
   "metadata": {},
   "source": [
    "# TUGAS 1.1 "
   ]
  },
  {
   "cell_type": "markdown",
   "metadata": {},
   "source": [
    "Soal : Jika kamu memilik uang seratus ribu rupiah di bank dan bank memberikan bunga 10 persen setiap tahunnya, berapakah uang yang kamu dapat dalam 7 tahun ? "
   ]
  },
  {
   "cell_type": "code",
   "execution_count": 21,
   "metadata": {},
   "outputs": [
    {
     "name": "stdout",
     "output_type": "stream",
     "text": [
      "Total saldo anda sebesar Rp.170000.0\n"
     ]
    }
   ],
   "source": [
    "tabungan = 100000 #tabungan awal\n",
    "bunga = 0.1 #bunga sebesar 10% / tahun\n",
    "lama = 7 #lama menabung selama 7 tahun\n",
    "\n",
    "saldoakhir =  (tabungan * bunga) * lama + tabungan\n",
    "\n",
    "print('Total saldo anda sebesar Rp.' + str (saldoakhir))"
   ]
  },
  {
   "cell_type": "code",
   "execution_count": 20,
   "metadata": {},
   "outputs": [
    {
     "name": "stdout",
     "output_type": "stream",
     "text": [
      "10000.0\n"
     ]
    },
    {
     "data": {
      "text/plain": [
       "float"
      ]
     },
     "execution_count": 20,
     "metadata": {},
     "output_type": "execute_result"
    }
   ],
   "source": [
    "hasil1 = tabungan * faktor\n",
    "print (hasil1)\n",
    "type (hasil1)"
   ]
  },
  {
   "cell_type": "code",
   "execution_count": 16,
   "metadata": {},
   "outputs": [
    {
     "name": "stdout",
     "output_type": "stream",
     "text": [
      "Sains DataSains Data\n"
     ]
    }
   ],
   "source": [
    "desc = \"Sains Data\"\n",
    "doubledesc = desc + desc\n",
    "print(doubledesc)"
   ]
  }
 ],
 "metadata": {
  "kernelspec": {
   "display_name": "Python 3",
   "language": "python",
   "name": "python3"
  },
  "language_info": {
   "codemirror_mode": {
    "name": "ipython",
    "version": 3
   },
   "file_extension": ".py",
   "mimetype": "text/x-python",
   "name": "python",
   "nbconvert_exporter": "python",
   "pygments_lexer": "ipython3",
   "version": "3.6.9"
  }
 },
 "nbformat": 4,
 "nbformat_minor": 2
}
