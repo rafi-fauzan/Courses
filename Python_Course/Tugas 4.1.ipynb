{
 "cells": [
  {
   "cell_type": "markdown",
   "metadata": {},
   "source": [
    "# Tugas 4.1"
   ]
  },
  {
   "cell_type": "markdown",
   "metadata": {},
   "source": [
    "no. 1"
   ]
  },
  {
   "cell_type": "code",
   "execution_count": 129,
   "metadata": {},
   "outputs": [],
   "source": [
    "import numpy as np"
   ]
  },
  {
   "cell_type": "code",
   "execution_count": 130,
   "metadata": {},
   "outputs": [
    {
     "name": "stdout",
     "output_type": "stream",
     "text": [
      "<class 'numpy.ndarray'>\n"
     ]
    }
   ],
   "source": [
    "np_tinggi = np.array([180, 215, 210, 210, 188, 176, 209, 200])\n",
    "print(type(np_tinggi))"
   ]
  },
  {
   "cell_type": "markdown",
   "metadata": {},
   "source": [
    "no .2"
   ]
  },
  {
   "cell_type": "code",
   "execution_count": 131,
   "metadata": {},
   "outputs": [
    {
     "name": "stdout",
     "output_type": "stream",
     "text": [
      "[1.8  2.15 2.1  2.1  1.88 1.76 2.09 2.  ]\n"
     ]
    }
   ],
   "source": [
    "np_tinggi_meter = np_tinggi / 100\n",
    "print(np_tinggi_meter)"
   ]
  },
  {
   "cell_type": "markdown",
   "metadata": {},
   "source": [
    "no. 3"
   ]
  },
  {
   "cell_type": "code",
   "execution_count": 132,
   "metadata": {},
   "outputs": [
    {
     "name": "stdout",
     "output_type": "stream",
     "text": [
      "[0.00273148 0.00216333 0.00222222 0.00229025 0.00221537 0.00210808\n",
      " 0.00249536 0.00275   ]\n"
     ]
    }
   ],
   "source": [
    "np_berat = np.array([88.5, 100, 98, 101, 78.3, 65.3, 109, 110])\n",
    "bmi = np_berat / np_tinggi ** 2\n",
    "\n",
    "print(bmi)"
   ]
  },
  {
   "cell_type": "markdown",
   "metadata": {},
   "source": [
    "no. 4"
   ]
  },
  {
   "cell_type": "code",
   "execution_count": 133,
   "metadata": {},
   "outputs": [
    {
     "name": "stdout",
     "output_type": "stream",
     "text": [
      "[]\n"
     ]
    }
   ],
   "source": [
    "bmi_tinggi = bmi[bmi > 23]\n",
    "print(bmi_tinggi)"
   ]
  },
  {
   "cell_type": "markdown",
   "metadata": {},
   "source": [
    "no. 5"
   ]
  },
  {
   "cell_type": "markdown",
   "metadata": {},
   "source": [
    "Soal :np.array([True, 1, 2]) + np.array([3, 4, False])\n",
    "Manakah pilihan di bawah ini yang memilik hasil sama seperti di atas ?\n",
    "\n",
    "Jawab :B. np.array([4, 3, 0]) + np.array([0, 2, 2])"
   ]
  },
  {
   "cell_type": "markdown",
   "metadata": {},
   "source": [
    "no. 6"
   ]
  },
  {
   "cell_type": "code",
   "execution_count": 134,
   "metadata": {},
   "outputs": [
    {
     "name": "stdout",
     "output_type": "stream",
     "text": [
      "110.0\n",
      "[101.   78.3  65.3 109.  110. ]\n"
     ]
    }
   ],
   "source": [
    "print(np_berat[7])\n",
    "print(np_berat[3:8])"
   ]
  },
  {
   "cell_type": "markdown",
   "metadata": {},
   "source": [
    "no. 7"
   ]
  },
  {
   "cell_type": "code",
   "execution_count": 135,
   "metadata": {},
   "outputs": [
    {
     "name": "stdout",
     "output_type": "stream",
     "text": [
      "<class 'numpy.ndarray'>\n",
      "[[180.   78.4]\n",
      " [215.  102.7]\n",
      " [210.   98.5]\n",
      " [188.   75.2]]\n",
      "(4, 2)\n"
     ]
    }
   ],
   "source": [
    "basket_2d = np.array([[180, 78.4],                \n",
    "                 [215, 102.7],                 \n",
    "                 [210, 98.5],                 \n",
    "                 [188, 75.2]])\n",
    "\n",
    "print(type(basket_2d))\n",
    "print(basket_2d)\n",
    "print(basket_2d.shape)"
   ]
  },
  {
   "cell_type": "markdown",
   "metadata": {},
   "source": [
    "no. 8"
   ]
  },
  {
   "cell_type": "code",
   "execution_count": 136,
   "metadata": {},
   "outputs": [
    {
     "name": "stdout",
     "output_type": "stream",
     "text": [
      "[180. 215. 210. 188.]\n"
     ]
    }
   ],
   "source": [
    "print(basket_2d[:,0])"
   ]
  },
  {
   "cell_type": "code",
   "execution_count": 137,
   "metadata": {},
   "outputs": [
    {
     "name": "stdout",
     "output_type": "stream",
     "text": [
      "[98.5 75.2]\n"
     ]
    }
   ],
   "source": [
    "print(basket_2d[2:,1])"
   ]
  },
  {
   "cell_type": "markdown",
   "metadata": {},
   "source": [
    "no. 9"
   ]
  },
  {
   "cell_type": "code",
   "execution_count": 138,
   "metadata": {},
   "outputs": [
    {
     "name": "stdout",
     "output_type": "stream",
     "text": [
      "[[ 2  4]\n",
      " [ 6  8]\n",
      " [10 12]]\n",
      "[[11 12]\n",
      " [13 14]\n",
      " [15 16]]\n",
      "[[ 2  4]\n",
      " [ 6  8]\n",
      " [10 12]]\n"
     ]
    }
   ],
   "source": [
    "np_mat = np.array([[1, 2],                    \n",
    "                   [3, 4],                    \n",
    "                   [5, 6]]) \n",
    "\n",
    "print(np_mat * 2) \n",
    "print(np_mat + np.array([10, 10])) \n",
    "print(np_mat + np_mat)"
   ]
  },
  {
   "cell_type": "code",
   "execution_count": 139,
   "metadata": {},
   "outputs": [
    {
     "data": {
      "text/plain": [
       "array([[180. ,  78.4],\n",
       "       [215. , 102.7],\n",
       "       [210. ,  98.5],\n",
       "       [188. ,  75.2]])"
      ]
     },
     "execution_count": 139,
     "metadata": {},
     "output_type": "execute_result"
    }
   ],
   "source": [
    "basket_2d"
   ]
  },
  {
   "cell_type": "code",
   "execution_count": 140,
   "metadata": {},
   "outputs": [
    {
     "name": "stdout",
     "output_type": "stream",
     "text": [
      "83.4 107.7 103.5 80.2\n"
     ]
    }
   ],
   "source": [
    "print(basket_2d[0][1] + 5, basket_2d[1][1] + 5, basket_2d[2][1] + 5, basket_2d[3][1] + 5)"
   ]
  },
  {
   "cell_type": "code",
   "execution_count": 141,
   "metadata": {},
   "outputs": [
    {
     "name": "stdout",
     "output_type": "stream",
     "text": [
      "1.8 2.15 2.1 1.88\n"
     ]
    }
   ],
   "source": [
    "print(basket_2d[0][0] / 100, basket_2d[1][0] / 100, basket_2d[2][0] / 100, basket_2d[3][0] / 100)"
   ]
  },
  {
   "cell_type": "markdown",
   "metadata": {},
   "source": [
    "no. 10"
   ]
  },
  {
   "cell_type": "code",
   "execution_count": 142,
   "metadata": {},
   "outputs": [
    {
     "name": "stdout",
     "output_type": "stream",
     "text": [
      "198.5\n"
     ]
    }
   ],
   "source": [
    "print(np.mean(np_tinggi))"
   ]
  },
  {
   "cell_type": "code",
   "execution_count": 143,
   "metadata": {},
   "outputs": [
    {
     "name": "stdout",
     "output_type": "stream",
     "text": [
      "204.5\n"
     ]
    }
   ],
   "source": [
    "print(np.median(np_tinggi))"
   ]
  },
  {
   "cell_type": "markdown",
   "metadata": {},
   "source": [
    "no. 11"
   ]
  },
  {
   "cell_type": "code",
   "execution_count": 144,
   "metadata": {},
   "outputs": [
    {
     "name": "stdout",
     "output_type": "stream",
     "text": [
      "Rata - Rata =  198.25\n",
      "Med =  199.0\n",
      "Stdev =  14.635146053251399\n",
      "Korelasi = 1.0\n"
     ]
    }
   ],
   "source": [
    "rata_rata = np.mean(basket_2d[:,0])\n",
    "median = np.median(basket_2d[:,0])\n",
    "stddev = np.std(basket_2d[:,0])\n",
    "korelasi = np.corrcoef(basket_2d[:,0])\n",
    "\n",
    "print('Rata - Rata = ', rata_rata)\n",
    "print('Med = ', median)\n",
    "print('Stdev = ', stddev)\n",
    "print('Korelasi =', korelasi)"
   ]
  },
  {
   "cell_type": "code",
   "execution_count": 145,
   "metadata": {},
   "outputs": [
    {
     "data": {
      "text/plain": [
       "array([[180. ,  78.4],\n",
       "       [215. , 102.7],\n",
       "       [210. ,  98.5],\n",
       "       [188. ,  75.2]])"
      ]
     },
     "execution_count": 145,
     "metadata": {},
     "output_type": "execute_result"
    }
   ],
   "source": [
    "basket_2d"
   ]
  },
  {
   "cell_type": "code",
   "execution_count": 146,
   "metadata": {},
   "outputs": [
    {
     "data": {
      "text/plain": [
       "array([180, 215, 210, 210, 188, 176, 209, 200])"
      ]
     },
     "execution_count": 146,
     "metadata": {},
     "output_type": "execute_result"
    }
   ],
   "source": [
    "np_tinggi"
   ]
  },
  {
   "cell_type": "code",
   "execution_count": 147,
   "metadata": {},
   "outputs": [
    {
     "data": {
      "text/plain": [
       "array([180., 215., 210., 188.])"
      ]
     },
     "execution_count": 147,
     "metadata": {},
     "output_type": "execute_result"
    }
   ],
   "source": [
    "basket_2d[:,0]"
   ]
  }
 ],
 "metadata": {
  "kernelspec": {
   "display_name": "Python 3",
   "language": "python",
   "name": "python3"
  },
  "language_info": {
   "codemirror_mode": {
    "name": "ipython",
    "version": 3
   },
   "file_extension": ".py",
   "mimetype": "text/x-python",
   "name": "python",
   "nbconvert_exporter": "python",
   "pygments_lexer": "ipython3",
   "version": "3.6.9"
  }
 },
 "nbformat": 4,
 "nbformat_minor": 2
}
